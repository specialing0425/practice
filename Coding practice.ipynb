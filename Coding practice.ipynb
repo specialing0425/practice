{
  "metadata": {
    "language_info": {
      "codemirror_mode": {
        "name": "python",
        "version": 3
      },
      "file_extension": ".py",
      "mimetype": "text/x-python",
      "name": "python",
      "nbconvert_exporter": "python",
      "pygments_lexer": "ipython3",
      "version": "3.8"
    },
    "kernelspec": {
      "name": "python",
      "display_name": "Pyolite",
      "language": "python"
    }
  },
  "nbformat_minor": 4,
  "nbformat": 4,
  "cells": [
    {
      "cell_type": "markdown",
      "source": "<h1> \"My Jupitor Notebook on IBM Watson Studio\" </h1>",
      "metadata": {}
    },
    {
      "cell_type": "markdown",
      "source": "<b>Specialing</b><br>\nEngineer in semiconductor industry",
      "metadata": {}
    },
    {
      "cell_type": "markdown",
      "source": "<i>I am interested in data science because I hope to get clear information through data<br>\n    I would like to dig the truth from great amount of data</i>",
      "metadata": {}
    },
    {
      "cell_type": "markdown",
      "source": "<h3> Now i am 26, and I plan to use 1 year to improve my data science ability. At the age of 27</h3>",
      "metadata": {
        "tags": []
      }
    },
    {
      "cell_type": "code",
      "source": "n = 26+1\nprint(n)",
      "metadata": {
        "trusted": true
      },
      "execution_count": 3,
      "outputs": [
        {
          "name": "stdout",
          "text": "27\n",
          "output_type": "stream"
        }
      ]
    },
    {
      "cell_type": "markdown",
      "source": "<b>\"horizontal rule\"</b>\n***\n<b><font color=#DAA520>\"Bulleted List\"</font></b>\n- 2021\n- 2022\n    - October\n        - 26th\n***\n<i>Numbered List</i>\n1. one<br>\n1. two<br>\n1. three<br>\n    1. ICE\n    2. FIRE\n    2. WIND\n***\n<b>Table</b>\n\n||A|B|i|\n|---:|---:|---:|---:|\n|A|A|AB|A|\n|B|AB|B|B|\n|i|A|B|O|\n***\n\"hyperlinks\"\n\n[My Personal Blog](https://specialing.wordpress.com/)\n***\nImage\n\n![Bear](https://placebear.com/300/300)\n***\n<b>code/syntax highlighting</b>\n\n`print(1)`\n```python\nprint(1)\n```\n***\n<b>blocked quotes</b>\n>To see is to believe\n***\n\n<i>strikethrough</i>\n\n~~123~~",
      "metadata": {}
    },
    {
      "cell_type": "code",
      "source": "%%html\n<a href=\"https://specialing.wordpress.com/\">My Personal Blog</a>",
      "metadata": {
        "trusted": true
      },
      "execution_count": 4,
      "outputs": [
        {
          "output_type": "display_data",
          "data": {
            "text/plain": "<IPython.core.display.HTML object>",
            "text/html": "<a href=\"https://specialing.wordpress.com/\">My Personal Blog</a>\n"
          },
          "metadata": {}
        }
      ]
    }
  ]
}